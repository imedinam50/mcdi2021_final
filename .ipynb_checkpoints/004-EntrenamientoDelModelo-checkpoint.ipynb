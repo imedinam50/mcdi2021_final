{
 "cells": [
  {
   "cell_type": "markdown",
   "metadata": {
    "id": "l6eX7dylf_aL"
   },
   "source": [
    "<img src=\"https://raw.githubusercontent.com/imedinam50/MCDI/main/MCDI.jpg\">\n",
    "\n",
    "<div style=\"text-align: right\"> <H1> Proyecto final MCDI </H1></div>\n",
    "<br><br><br>\n",
    "<div style=\"text-align: right\"> <H2> Asesor. Dr. Elio Atenógenes Villaseñor García </H2></div>\n",
    "<br><br>\n",
    "\n",
    "<H2>Ingeniería de datos</H2>\n",
    "<br><br>\n",
    "<H4><I> \n",
    "    Ismael Medina Muñoz\n",
    "</I></H4>\n",
    "<br>\n",
    "<div style=\"text-align: right\"> Fecha de entrega: 2022-0*-** </div>"
   ]
  },
  {
   "cell_type": "markdown",
   "metadata": {
    "id": "ujr3xUJ8gePa"
   },
   "source": [
    "# Introducción\n",
    "## TODO"
   ]
  },
  {
   "cell_type": "markdown",
   "metadata": {
    "id": "VrH-g1Ktgf34"
   },
   "source": [
    "# Planteamiento del problema\n",
    "La creación artística está siendo impactada por la inteligencia artificial. La música no es un campo ajeno a dicho impacto. La creación musical es un proceso que toma tiempo para el compositor. En un contexto de creación de obras artísticas usadas en productos como comerciales de productos, videojuegos, contenido audiovisual en internet, etc. se requiere de la producción acelerada.\n",
    "Esta actividad de creación musical ha sido atribuida meramente a los humanos, tal cómo lo establece Morán Martinez, M (2009).\n",
    "\n",
    "    La creación, la ejecución y la apreciación de la música obedecen fundamentalmente a la capacidad humana para descubrir patrones de sonido e identificarlos en ocasiones posteriores. Sin los procesos biológicos de percepción auditiva y sin consenso cultural sobre lo percibido, entre por lo menos algunos oyentes, no pueden existir ni música ni comunicación musical.\n",
    "\n",
    "Si bien existen ya muchas investigaciones sobre la composición musical automatizada, la creación asistida e interactiva para los compositores es aún un reto para la investigación, tal como menciona Briot, J. (2021).\n",
    "\n",
    "Para componer música necesitamos entonces de un generador de nuevas notas singulares o acordes basado en secuencias existentes, coherentes, pero principalmente consonantes, que ya sean parte de un corpus de entrenamiento.\n",
    "\n",
    "En este proyecto se entrenará una red neuronal profunda para que sea un generador de un grupo de nuevas $n$-notas a un mismo tiempo a partir de dos vectores que representen secuencias de $n$-notas que ocurren a un mismo tiempo y cuya aparición en secuencia representaría grupos de $n$-notas que son consonantes. Este generador será un precursor a la asistencia en la composición de piezas de jazz para piano. Se escogió el género del jazz dado que éste representa un reto para los músicos por su complejidad y riqueza lingüística."
   ]
  },
  {
   "cell_type": "markdown",
   "metadata": {
    "id": "jhQTy-DcglsT"
   },
   "source": [
    "# Metodología propuesta y fundamentación\n",
    "La composición musical consiste de crear secuencias de $n$-notas con $n = {0, 1, 2, 3, 4, 5, 6, 7, 8, 9, 10}$ donde el silencio se representa por un conjunto de $0$-notas. Las $n$-notas ejecutadas en una secuencia $S$ deben ser agradables el oído humano, es decir, consonantes. Las partituras permiten registrar la música a través de escribir las $n$-notas colocadas en relación a su posición relativa en una secuencia $S$ dentro de los límites de un compás. Cada conjunto de $n$-notas tienen una duración que se mantienen bajo las reglas y límites propios de los compases.\n",
    "\n",
    "La música es precursor del lenguaje hablado y por tanto mantiene una similitud con ésta, tal como establece Lozano(2013). Una oración sólo tiene coherencia si las palabras que la forman resultan en un significado para el receptor de la comunicación. Las oraciones forman párrafos y los signos de puntuación permiten agregar pausas y entonaciones que ayudan a que el cerebro del receptor consuma la información que el emisor pretendía.\n",
    "\n",
    "Se escogió una fuente digital de partituras para modelar la secuencia $S$ de $n$-notas. El corpus provino entonces de __[musescore.com](https://musescore.com/)__. Desde este sitio se descargaron las partituras en formato **MSCZ** pertenecientes al género del jazz y de ahí se propone hacer la extracción de las $n$-notas asociadas al piano, ya que dichas partituras pueden tener más de un instrumento descrito en sus pentagramas.\n",
    "\n",
    "Mediante la librería `ms3` se abrirán las partituras y de ellas se obtendrán las secuencias de $n$-notas asociadas al piano. Dichas $n$-notas ocurriendo en la misma posición de tiempo del compás se conocerán como rebanadas. Las secuencias de rebanadas de $n$-notas serán usadas para entrenar la red neuronal que predecirá la siguiente rebanada de $n$-notas en la secuencia. Este generador será el antecedente para la composición musical.\n",
    "\n",
    "Este trabajo es similar al que ya se aplica para predecir la siguiente palabra o el siguiente número dada una secuencia previa y que ha sido modelado usando redes neuronales recurrentes (RNN).\n",
    "\n",
    "Todos los conjuntos de datos intermedios en el procesamiento serán almacenados en archivos CSV dado el tiempo requerido para iterar el corpus y la capacidad que ofrece de segmentar el trabajo permitiendo retomar desde el paso último ejecutado."
   ]
  },
  {
   "cell_type": "markdown",
   "metadata": {},
   "source": [
    "# Implementación de la metodología"
   ]
  },
  {
   "cell_type": "markdown",
   "metadata": {},
   "source": [
    "## Entrenamiento de la red neuronal\n",
    "Con los datos ya codificados entonces fue posible hacer el entrenamiento de la red neuronal, lo primero es definir la creación de los tensores de entrada. \n",
    "\n",
    "### Los tensores de entrada\n",
    "La definición de los tensores de entrada se realizó tomando como guía el trabajo de Ijas(2019). Este trabajo muestra la predicción de la siguiente palabra dada una secuencia de palabras previas. Es así que se generó una cantidad de $m$ vectores que representan el *One-Hot encoding* para las secuencias de $n$-notas. En este caso, los $m$ vectores son $3$."
   ]
  },
  {
   "cell_type": "code",
   "execution_count": 1,
   "metadata": {},
   "outputs": [
    {
     "name": "stderr",
     "output_type": "stream",
     "text": [
      "C:\\Users\\ismedina\\Anaconda3\\envs\\MCDI2021_ModelTr\\lib\\site-packages\\requests\\__init__.py:104: RequestsDependencyWarning: urllib3 (1.26.9) or chardet (5.0.0)/charset_normalizer (2.0.12) doesn't match a supported version!\n",
      "  RequestsDependencyWarning)\n"
     ]
    }
   ],
   "source": [
    "import numpy as np\n",
    "import pandas as pd\n",
    "import tensorflow as tf\n",
    "import heapq\n",
    "from tensorflow.keras import Sequential, Input\n",
    "from tensorflow.keras.layers import Dense, Activation, Dropout, LSTM, GRU\n",
    "from tensorflow.keras.optimizers import RMSprop\n",
    "from tensorflow.keras.utils import plot_model"
   ]
  },
  {
   "cell_type": "code",
   "execution_count": 2,
   "metadata": {},
   "outputs": [],
   "source": [
    "unique_n_notes_sequences = pd.read_csv('.\\\\data\\\\unique_n_notes_sequences.csv', index_col = 0)"
   ]
  },
  {
   "cell_type": "code",
   "execution_count": 3,
   "metadata": {},
   "outputs": [
    {
     "data": {
      "text/html": [
       "<div>\n",
       "<style scoped>\n",
       "    .dataframe tbody tr th:only-of-type {\n",
       "        vertical-align: middle;\n",
       "    }\n",
       "\n",
       "    .dataframe tbody tr th {\n",
       "        vertical-align: top;\n",
       "    }\n",
       "\n",
       "    .dataframe thead th {\n",
       "        text-align: right;\n",
       "    }\n",
       "</style>\n",
       "<table border=\"1\" class=\"dataframe\">\n",
       "  <thead>\n",
       "    <tr style=\"text-align: right;\">\n",
       "      <th></th>\n",
       "      <th>prev_n_notes_id</th>\n",
       "      <th>actual_n_notes_id</th>\n",
       "      <th>next_n_notes_id</th>\n",
       "    </tr>\n",
       "  </thead>\n",
       "  <tbody>\n",
       "    <tr>\n",
       "      <th>0</th>\n",
       "      <td>0</td>\n",
       "      <td>1</td>\n",
       "      <td>0</td>\n",
       "    </tr>\n",
       "    <tr>\n",
       "      <th>1</th>\n",
       "      <td>0</td>\n",
       "      <td>2</td>\n",
       "      <td>3</td>\n",
       "    </tr>\n",
       "    <tr>\n",
       "      <th>2</th>\n",
       "      <td>2</td>\n",
       "      <td>3</td>\n",
       "      <td>4</td>\n",
       "    </tr>\n",
       "    <tr>\n",
       "      <th>3</th>\n",
       "      <td>3</td>\n",
       "      <td>4</td>\n",
       "      <td>3</td>\n",
       "    </tr>\n",
       "    <tr>\n",
       "      <th>4</th>\n",
       "      <td>4</td>\n",
       "      <td>3</td>\n",
       "      <td>4</td>\n",
       "    </tr>\n",
       "  </tbody>\n",
       "</table>\n",
       "</div>"
      ],
      "text/plain": [
       "   prev_n_notes_id  actual_n_notes_id  next_n_notes_id\n",
       "0                0                  1                0\n",
       "1                0                  2                3\n",
       "2                2                  3                4\n",
       "3                3                  4                3\n",
       "4                4                  3                4"
      ]
     },
     "execution_count": 3,
     "metadata": {},
     "output_type": "execute_result"
    }
   ],
   "source": [
    "unique_n_notes_sequences.head()"
   ]
  },
  {
   "cell_type": "code",
   "execution_count": 4,
   "metadata": {},
   "outputs": [],
   "source": [
    "master_n_notes = pd.read_csv('.\\\\data\\\\master_n_notes.csv', index_col = 0)"
   ]
  },
  {
   "cell_type": "code",
   "execution_count": 5,
   "metadata": {},
   "outputs": [
    {
     "data": {
      "text/plain": [
       "(78851, 3)"
      ]
     },
     "execution_count": 5,
     "metadata": {},
     "output_type": "execute_result"
    }
   ],
   "source": [
    "unique_n_notes_sequences.shape"
   ]
  },
  {
   "cell_type": "code",
   "execution_count": 6,
   "metadata": {},
   "outputs": [
    {
     "data": {
      "text/html": [
       "<div>\n",
       "<style scoped>\n",
       "    .dataframe tbody tr th:only-of-type {\n",
       "        vertical-align: middle;\n",
       "    }\n",
       "\n",
       "    .dataframe tbody tr th {\n",
       "        vertical-align: top;\n",
       "    }\n",
       "\n",
       "    .dataframe thead th {\n",
       "        text-align: right;\n",
       "    }\n",
       "</style>\n",
       "<table border=\"1\" class=\"dataframe\">\n",
       "  <thead>\n",
       "    <tr style=\"text-align: right;\">\n",
       "      <th></th>\n",
       "      <th>prev_n_notes_id</th>\n",
       "      <th>actual_n_notes_id</th>\n",
       "      <th>next_n_notes_id</th>\n",
       "    </tr>\n",
       "  </thead>\n",
       "  <tbody>\n",
       "    <tr>\n",
       "      <th>0</th>\n",
       "      <td>0</td>\n",
       "      <td>1</td>\n",
       "      <td>0</td>\n",
       "    </tr>\n",
       "    <tr>\n",
       "      <th>1</th>\n",
       "      <td>0</td>\n",
       "      <td>2</td>\n",
       "      <td>3</td>\n",
       "    </tr>\n",
       "    <tr>\n",
       "      <th>2</th>\n",
       "      <td>2</td>\n",
       "      <td>3</td>\n",
       "      <td>4</td>\n",
       "    </tr>\n",
       "    <tr>\n",
       "      <th>3</th>\n",
       "      <td>3</td>\n",
       "      <td>4</td>\n",
       "      <td>3</td>\n",
       "    </tr>\n",
       "    <tr>\n",
       "      <th>4</th>\n",
       "      <td>4</td>\n",
       "      <td>3</td>\n",
       "      <td>4</td>\n",
       "    </tr>\n",
       "  </tbody>\n",
       "</table>\n",
       "</div>"
      ],
      "text/plain": [
       "   prev_n_notes_id  actual_n_notes_id  next_n_notes_id\n",
       "0                0                  1                0\n",
       "1                0                  2                3\n",
       "2                2                  3                4\n",
       "3                3                  4                3\n",
       "4                4                  3                4"
      ]
     },
     "execution_count": 6,
     "metadata": {},
     "output_type": "execute_result"
    }
   ],
   "source": [
    "unique_n_notes_sequences.head()"
   ]
  },
  {
   "cell_type": "markdown",
   "metadata": {},
   "source": [
    "Así entonces definimos $\\mathbb{x}$ tiene la forma de todos los `unique_n_notes_sequences` $ \\times $ `1 conjuntos de n-notas previas` $ \\times $ `cantidad de id's distintos` mientras que $\\mathbb{y}$ es un vector donde el `id` del acorde más probable se registra."
   ]
  },
  {
   "cell_type": "code",
   "execution_count": 7,
   "metadata": {},
   "outputs": [],
   "source": [
    "## Esta es la definición de un tensor x de una dimensión que almacena el id de cada n-notas\n",
    "x = np.zeros((unique_n_notes_sequences.shape[0], unique_n_notes_sequences.shape[1] - 2, master_n_notes.shape[0]), dtype=bool)\n",
    "\n",
    "## Esta es la definición de un tensor x de una dimensión que almacena los ids de las n-notas previa y actual a\n",
    "##    fin de definir secuencias con 2 grupos de n-notas\n",
    "#x = np.zeros((unique_n_notes_sequences.shape[0], master_n_notes.shape[0]), dtype=bool)\n",
    "\n",
    "## Esta es la definición de un tensor y de una dimensión que almacena el id de cada n-nota subsecuente a las x's n-notas previas\n",
    "y = np.zeros((unique_n_notes_sequences.shape[0], master_n_notes.shape[0]), dtype=bool)\n",
    "\n",
    "## Aquí se arma el One-Hot encoding para representar los acordes de entrada y de salida\n",
    "for key, row in unique_n_notes_sequences.iterrows():\n",
    "    ## Aquí se establece el acorde previo\n",
    "    #x[key, 0, row[0]] = 1\n",
    "    ## Aquí se establece el acorde actual\n",
    "    #x[key, 1, row[1]] = 1\n",
    "    ## Aquí se establece el acorde siguiente\n",
    "    #y[key, row[2]] = 1\n",
    "    \n",
    "    ## Aquí se establece el acorde previo\n",
    "    x[key, 0, row[0]] = 1\n",
    "    ## Aquí se establece el acorde siguiente\n",
    "    y[key, row[1]] = 1"
   ]
  },
  {
   "cell_type": "markdown",
   "metadata": {},
   "source": [
    "### Modelo 1. La red neuronal recurrente (RNN) con LSTM\n",
    "La red neuronal que se construyó para el proyecto es una RNN con una capa `Long Short-Term Memory (LSTM)` que recibe los 2 tensores de *One-Hot encoding* de cada `id` de $n$-notas en las secuencias. La activación de hace por `softmax`a fin de regresar la probabilidad de los `id` calculados dado el tensor de entrada. Se anexa el código donde se muestra la forma gráfica de la red neuronal profunda."
   ]
  },
  {
   "cell_type": "code",
   "execution_count": 8,
   "metadata": {},
   "outputs": [],
   "source": [
    "modelLSTM = Sequential()\n",
    "modelLSTM.add(LSTM(1024, input_shape = (x.shape[1:]), dropout = 0.0))\n",
    "modelLSTM.add(Dense(master_n_notes.shape[0]))\n",
    "modelLSTM.add(Activation('softmax'))"
   ]
  },
  {
   "cell_type": "code",
   "execution_count": 9,
   "metadata": {},
   "outputs": [
    {
     "data": {
      "image/png": "[encoded data removed]",
      "text/plain": [
       "<IPython.core.display.Image object>"
      ]
     },
     "execution_count": 9,
     "metadata": {},
     "output_type": "execute_result"
    }
   ],
   "source": [
    "plot_model(modelLSTM, show_shapes = True, \n",
    "           show_layer_names = True)"
   ]
  },
  {
   "cell_type": "code",
   "execution_count": 10,
   "metadata": {},
   "outputs": [
    {
     "name": "stdout",
     "output_type": "stream",
     "text": [
      "Epoch 1/4\n",
      "524/524 [==============================] - 611s 1s/step - loss: 8.0125 - accuracy: 0.0291 - val_loss: 8.2243 - val_accuracy: 0.0358\n",
      "Epoch 2/4\n",
      "524/524 [==============================] - 766s 1s/step - loss: 7.3260 - accuracy: 0.0683 - val_loss: 8.5555 - val_accuracy: 0.0351\n",
      "Epoch 3/4\n",
      "524/524 [==============================] - 926s 2s/step - loss: 7.0707 - accuracy: 0.1242 - val_loss: 9.3477 - val_accuracy: 0.0304\n",
      "Epoch 4/4\n",
      "524/524 [==============================] - 706s 1s/step - loss: 6.5636 - accuracy: 0.1701 - val_loss: 9.6652 - val_accuracy: 0.0328\n"
     ]
    }
   ],
   "source": [
    "optimizer = RMSprop(learning_rate=0.01)\n",
    "modelLSTM.compile(loss='categorical_crossentropy', optimizer=optimizer, metrics=['accuracy'])\n",
    "history = modelLSTM.fit(x, y, validation_split=0.15, batch_size=128, epochs=4, shuffle=True).history"
   ]
  },
  {
   "cell_type": "markdown",
   "metadata": {},
   "source": [
    "### Modelo 2. La red neuronal recurrente (RNN) con GRU\n",
    "La red neuronal que se construyó para el proyecto es una RNN con una capa `Gated Recurrent Unit (GRU)` que recibe los 2 tensores de *One-Hot encoding* de cada `id` de $n$-notas en las secuencias. La activación de hace por `softmax`a fin de regresar la probabilidad de los `id` calculados dado el tensor de entrada. Se anexa el código donde se muestra la forma gráfica de la red neuronal profunda."
   ]
  },
  {
   "cell_type": "code",
   "execution_count": 11,
   "metadata": {},
   "outputs": [],
   "source": [
    "modelGRU = Sequential()\n",
    "modelGRU.add(GRU(1024, input_shape = (x.shape[1:]), dropout = 0.0))\n",
    "modelGRU.add(Dense(master_n_notes.shape[0]))\n",
    "modelGRU.add(Activation('softmax'))"
   ]
  },
  {
   "cell_type": "code",
   "execution_count": 12,
   "metadata": {},
   "outputs": [
    {
     "data": {
      "image/png": "[encoded data removed]",
      "text/plain": [
       "<IPython.core.display.Image object>"
      ]
     },
     "execution_count": 12,
     "metadata": {},
     "output_type": "execute_result"
    }
   ],
   "source": [
    "plot_model(modelGRU, show_shapes = True, \n",
    "           show_layer_names = True)"
   ]
  },
  {
   "cell_type": "code",
   "execution_count": 13,
   "metadata": {},
   "outputs": [
    {
     "name": "stdout",
     "output_type": "stream",
     "text": [
      "Epoch 1/4\n",
      "524/524 [==============================] - 438s 833ms/step - loss: 8.0101 - accuracy: 0.0325 - val_loss: 8.2209 - val_accuracy: 0.0347\n",
      "Epoch 2/4\n",
      "524/524 [==============================] - 479s 913ms/step - loss: 7.2287 - accuracy: 0.0828 - val_loss: 8.6335 - val_accuracy: 0.0346\n",
      "Epoch 3/4\n",
      "524/524 [==============================] - 544s 1s/step - loss: 6.9323 - accuracy: 0.1411 - val_loss: 9.2975 - val_accuracy: 0.0341\n",
      "Epoch 4/4\n",
      "524/524 [==============================] - 541s 1s/step - loss: 6.5101 - accuracy: 0.1748 - val_loss: 9.5718 - val_accuracy: 0.0342\n"
     ]
    }
   ],
   "source": [
    "optimizer = RMSprop(learning_rate=0.01)\n",
    "modelGRU.compile(loss='categorical_crossentropy', optimizer=optimizer, metrics=['accuracy'])\n",
    "history = modelGRU.fit(x, y, validation_split=0.15, batch_size=128, epochs=4, shuffle=True).history"
   ]
  },
  {
   "cell_type": "markdown",
   "metadata": {},
   "source": [
    "# Presentación de resultados\n",
    "A continuación, se mostrarán los resultados del `accuracy` de los modelos entrenados.\n",
    "\n",
    "## Comparación de las soluciones propuestas\n",
    "Observando los resultados debajo decimos que la RNN con la capa GRU tuvo un mejor desempeño si observamos el `accuracy` del conjunto de validación. Es por esto que decimos que el modelo `modelLSTM` lo hizo mejor que el modelo `modelGRU`."
   ]
  },
  {
   "cell_type": "code",
   "execution_count": 14,
   "metadata": {},
   "outputs": [
    {
     "name": "stdout",
     "output_type": "stream",
     "text": [
      "LSTM val_accuracy: 0.032803517\n",
      "GRU  val_accuracy: 0.034240786\n"
     ]
    }
   ],
   "source": [
    "print(\"LSTM val_accuracy:\", modelLSTM.metrics[1].result().numpy())\n",
    "print(\"GRU  val_accuracy:\", modelGRU.metrics[1].result().numpy())"
   ]
  },
  {
   "cell_type": "markdown",
   "metadata": {},
   "source": [
    "Quizá mejor desempeño"
   ]
  },
  {
   "cell_type": "code",
   "execution_count": 15,
   "metadata": {},
   "outputs": [
    {
     "name": "stdout",
     "output_type": "stream",
     "text": [
      "se usará el modelo GRU\n"
     ]
    },
    {
     "name": "stderr",
     "output_type": "stream",
     "text": [
      "WARNING:absl:Found untraced functions such as gru_cell_layer_call_fn, gru_cell_layer_call_and_return_conditional_losses, gru_cell_layer_call_fn, gru_cell_layer_call_and_return_conditional_losses, gru_cell_layer_call_and_return_conditional_losses while saving (showing 5 of 5). These functions will not be directly callable after loading.\n"
     ]
    },
    {
     "name": "stdout",
     "output_type": "stream",
     "text": [
      "INFO:tensorflow:Assets written to: c:/users/ismedina/documents/maestría/ProyectoFinal/modelos/modelGRU\\assets\n"
     ]
    },
    {
     "name": "stderr",
     "output_type": "stream",
     "text": [
      "INFO:tensorflow:Assets written to: c:/users/ismedina/documents/maestría/ProyectoFinal/modelos/modelGRU\\assets\n",
      "WARNING:absl:Found untraced functions such as gru_cell_layer_call_fn, gru_cell_layer_call_and_return_conditional_losses, gru_cell_layer_call_fn, gru_cell_layer_call_and_return_conditional_losses, gru_cell_layer_call_and_return_conditional_losses while saving (showing 5 of 5). These functions will not be directly callable after loading.\n"
     ]
    },
    {
     "name": "stdout",
     "output_type": "stream",
     "text": [
      "INFO:tensorflow:Assets written to: c:/users/ismedina/documents/maestría/ProyectoFinal/modelos/FinalModel\\assets\n"
     ]
    },
    {
     "name": "stderr",
     "output_type": "stream",
     "text": [
      "INFO:tensorflow:Assets written to: c:/users/ismedina/documents/maestría/ProyectoFinal/modelos/FinalModel\\assets\n"
     ]
    }
   ],
   "source": [
    "if modelLSTM.metrics[1].result().numpy() >= modelGRU.metrics[1].result().numpy():\n",
    "    print(\"se usará el modelo LSTM\")\n",
    "    model = modelLSTM\n",
    "    modelLSTM.save('c:/users/ismedina/documents/maestría/ProyectoFinal/modelos/modelLSTM')\n",
    "else:\n",
    "    print(\"se usará el modelo GRU\")    \n",
    "    model = modelGRU\n",
    "    modelGRU.save('c:/users/ismedina/documents/maestría/ProyectoFinal/modelos/modelGRU')\n",
    "\n",
    "model.save('c:/users/ismedina/documents/maestría/ProyectoFinal/modelos/FinalModel')    "
   ]
  },
  {
   "cell_type": "markdown",
   "metadata": {},
   "source": [
    "## Resultados con la mejor solución al problema\n",
    "### Los tensores resultantes\n",
    "Para comprobar la generación de la secuencia de $n$-notas se toma un tensor aleatorio de 2 $n$-notas. Vamos a tomar el acorde nuevo para que forme parte del nuevo tensor de predicción."
   ]
  },
  {
   "cell_type": "code",
   "execution_count": 16,
   "metadata": {},
   "outputs": [
    {
     "name": "stdout",
     "output_type": "stream",
     "text": [
      "WARNING:tensorflow:Model was constructed with shape (None, 1, 18229) for input KerasTensor(type_spec=TensorSpec(shape=(None, 1, 18229), dtype=tf.float32, name='gru_input'), name='gru_input', description=\"created by layer 'gru_input'\"), but it was called on an input with incompatible shape (None, 2, 18229).\n"
     ]
    },
    {
     "name": "stderr",
     "output_type": "stream",
     "text": [
      "WARNING:tensorflow:Model was constructed with shape (None, 1, 18229) for input KerasTensor(type_spec=TensorSpec(shape=(None, 1, 18229), dtype=tf.float32, name='gru_input'), name='gru_input', description=\"created by layer 'gru_input'\"), but it was called on an input with incompatible shape (None, 2, 18229).\n"
     ]
    }
   ],
   "source": [
    "top_n = 1\n",
    "n_notes_id_sequences = pd.DataFrame(columns=['n_notes_01', 'n_notes_02', 'n_notes_03',\n",
    "                                 'n_notes_04', 'n_notes_05', 'n_notes_06',\n",
    "                                 'n_notes_07', 'n_notes_08',\n",
    "                                            'n_notes_09', 'n_notes_10', 'n_notes_11',\n",
    "                                 'n_notes_12', 'n_notes_13', 'n_notes_14',\n",
    "                                 'n_notes_15', 'n_notes_16','n_notes_17', 'n_notes_18', 'n_notes_19',\n",
    "                                 'n_notes_20', 'n_notes_21', 'n_notes_22',\n",
    "                                 'n_notes_23', 'n_notes_24',\n",
    "                                            'n_notes_25', 'n_notes_26', 'n_notes_27',\n",
    "                                 'n_notes_28', 'n_notes_29', 'n_notes_30',\n",
    "                                 'n_notes_31', 'n_notes_32'], dtype= int)\n",
    "\n",
    "for sequence in range(5):\n",
    "    input_n_notes = x[np.random.choice(range(len(x)), size=1)[0]]\n",
    "    oh_n_notes_sequence = input_n_notes.copy()\n",
    "    n_notes_id = []\n",
    "\n",
    "    for i in range(31):\n",
    "        new_prediction = model.predict(np.expand_dims(oh_n_notes_sequence[-2:], axis=0))\n",
    "        new_prediction = np.squeeze(new_prediction, axis=0)\n",
    "        log_prediction = np.log(new_prediction)\n",
    "        exp_prediction = np.exp(log_prediction)        \n",
    "        prediction = exp_prediction / np.sum(exp_prediction)\n",
    "        \n",
    "        n_notes_index = heapq.nlargest(top_n, range(len(prediction)), prediction.take)\n",
    "        to_append = np.zeros((1, master_n_notes.shape[0]), dtype=bool)\n",
    "        to_append[0][n_notes_index] = True\n",
    "        ##print(to_append)\n",
    "        \n",
    "        ##print(oh_n_notes_sequence.argmax(), n_notes_index)\n",
    "        oh_n_notes_sequence = np.concatenate([oh_n_notes_sequence, to_append]) \n",
    "        ##print(oh_n_notes_sequence.argmax(), n_notes_index, oh_n_notes_sequence[-2:].argmax())\n",
    "        \n",
    "    for oh_n_notes in oh_n_notes_sequence:\n",
    "        n_notes_id.append(oh_n_notes.argmax())\n",
    "    \n",
    "    ##print(n_notes_id, n_notes_id_sequences)\n",
    "        \n",
    "    n_notes_id_sequences.loc[len(n_notes_id_sequences.index)] = n_notes_id"
   ]
  },
  {
   "cell_type": "code",
   "execution_count": 17,
   "metadata": {},
   "outputs": [],
   "source": [
    "n_notes_id_sequences.to_csv('.\\\\output\\\\n_notes_id_sequences.csv')"
   ]
  },
  {
   "cell_type": "code",
   "execution_count": 18,
   "metadata": {},
   "outputs": [
    {
     "data": {
      "text/html": [
       "<div>\n",
       "<style scoped>\n",
       "    .dataframe tbody tr th:only-of-type {\n",
       "        vertical-align: middle;\n",
       "    }\n",
       "\n",
       "    .dataframe tbody tr th {\n",
       "        vertical-align: top;\n",
       "    }\n",
       "\n",
       "    .dataframe thead th {\n",
       "        text-align: right;\n",
       "    }\n",
       "</style>\n",
       "<table border=\"1\" class=\"dataframe\">\n",
       "  <thead>\n",
       "    <tr style=\"text-align: right;\">\n",
       "      <th></th>\n",
       "      <th>n_notes_01</th>\n",
       "      <th>n_notes_02</th>\n",
       "      <th>n_notes_03</th>\n",
       "      <th>n_notes_04</th>\n",
       "      <th>n_notes_05</th>\n",
       "      <th>n_notes_06</th>\n",
       "      <th>n_notes_07</th>\n",
       "      <th>n_notes_08</th>\n",
       "      <th>n_notes_09</th>\n",
       "      <th>n_notes_10</th>\n",
       "      <th>...</th>\n",
       "      <th>n_notes_23</th>\n",
       "      <th>n_notes_24</th>\n",
       "      <th>n_notes_25</th>\n",
       "      <th>n_notes_26</th>\n",
       "      <th>n_notes_27</th>\n",
       "      <th>n_notes_28</th>\n",
       "      <th>n_notes_29</th>\n",
       "      <th>n_notes_30</th>\n",
       "      <th>n_notes_31</th>\n",
       "      <th>n_notes_32</th>\n",
       "    </tr>\n",
       "  </thead>\n",
       "  <tbody>\n",
       "    <tr>\n",
       "      <th>0</th>\n",
       "      <td>135</td>\n",
       "      <td>174</td>\n",
       "      <td>5919</td>\n",
       "      <td>167</td>\n",
       "      <td>167</td>\n",
       "      <td>2321</td>\n",
       "      <td>870</td>\n",
       "      <td>12005</td>\n",
       "      <td>1410</td>\n",
       "      <td>6081</td>\n",
       "      <td>...</td>\n",
       "      <td>140</td>\n",
       "      <td>3240</td>\n",
       "      <td>140</td>\n",
       "      <td>140</td>\n",
       "      <td>3240</td>\n",
       "      <td>140</td>\n",
       "      <td>140</td>\n",
       "      <td>3240</td>\n",
       "      <td>140</td>\n",
       "      <td>140</td>\n",
       "    </tr>\n",
       "    <tr>\n",
       "      <th>1</th>\n",
       "      <td>979</td>\n",
       "      <td>18</td>\n",
       "      <td>28</td>\n",
       "      <td>4306</td>\n",
       "      <td>4306</td>\n",
       "      <td>14094</td>\n",
       "      <td>14033</td>\n",
       "      <td>14045</td>\n",
       "      <td>14046</td>\n",
       "      <td>14091</td>\n",
       "      <td>...</td>\n",
       "      <td>14042</td>\n",
       "      <td>14041</td>\n",
       "      <td>14042</td>\n",
       "      <td>14041</td>\n",
       "      <td>14042</td>\n",
       "      <td>14041</td>\n",
       "      <td>14042</td>\n",
       "      <td>14041</td>\n",
       "      <td>14042</td>\n",
       "      <td>14041</td>\n",
       "    </tr>\n",
       "    <tr>\n",
       "      <th>2</th>\n",
       "      <td>1533</td>\n",
       "      <td>136</td>\n",
       "      <td>136</td>\n",
       "      <td>3224</td>\n",
       "      <td>140</td>\n",
       "      <td>136</td>\n",
       "      <td>9218</td>\n",
       "      <td>140</td>\n",
       "      <td>140</td>\n",
       "      <td>3240</td>\n",
       "      <td>...</td>\n",
       "      <td>140</td>\n",
       "      <td>140</td>\n",
       "      <td>3240</td>\n",
       "      <td>140</td>\n",
       "      <td>140</td>\n",
       "      <td>3240</td>\n",
       "      <td>140</td>\n",
       "      <td>140</td>\n",
       "      <td>3240</td>\n",
       "      <td>140</td>\n",
       "    </tr>\n",
       "    <tr>\n",
       "      <th>3</th>\n",
       "      <td>356</td>\n",
       "      <td>363</td>\n",
       "      <td>3414</td>\n",
       "      <td>3401</td>\n",
       "      <td>2117</td>\n",
       "      <td>15535</td>\n",
       "      <td>13737</td>\n",
       "      <td>15535</td>\n",
       "      <td>15535</td>\n",
       "      <td>13737</td>\n",
       "      <td>...</td>\n",
       "      <td>15535</td>\n",
       "      <td>15535</td>\n",
       "      <td>13737</td>\n",
       "      <td>15535</td>\n",
       "      <td>15535</td>\n",
       "      <td>13737</td>\n",
       "      <td>15535</td>\n",
       "      <td>15535</td>\n",
       "      <td>13737</td>\n",
       "      <td>15535</td>\n",
       "    </tr>\n",
       "    <tr>\n",
       "      <th>4</th>\n",
       "      <td>12184</td>\n",
       "      <td>137</td>\n",
       "      <td>1040</td>\n",
       "      <td>137</td>\n",
       "      <td>137</td>\n",
       "      <td>1040</td>\n",
       "      <td>137</td>\n",
       "      <td>137</td>\n",
       "      <td>1040</td>\n",
       "      <td>137</td>\n",
       "      <td>...</td>\n",
       "      <td>137</td>\n",
       "      <td>1040</td>\n",
       "      <td>137</td>\n",
       "      <td>137</td>\n",
       "      <td>1040</td>\n",
       "      <td>137</td>\n",
       "      <td>137</td>\n",
       "      <td>1040</td>\n",
       "      <td>137</td>\n",
       "      <td>137</td>\n",
       "    </tr>\n",
       "  </tbody>\n",
       "</table>\n",
       "<p>5 rows × 32 columns</p>\n",
       "</div>"
      ],
      "text/plain": [
       "   n_notes_01  n_notes_02  n_notes_03  n_notes_04  n_notes_05  n_notes_06  \\\n",
       "0         135         174        5919         167         167        2321   \n",
       "1         979          18          28        4306        4306       14094   \n",
       "2        1533         136         136        3224         140         136   \n",
       "3         356         363        3414        3401        2117       15535   \n",
       "4       12184         137        1040         137         137        1040   \n",
       "\n",
       "   n_notes_07  n_notes_08  n_notes_09  n_notes_10  ...  n_notes_23  \\\n",
       "0         870       12005        1410        6081  ...         140   \n",
       "1       14033       14045       14046       14091  ...       14042   \n",
       "2        9218         140         140        3240  ...         140   \n",
       "3       13737       15535       15535       13737  ...       15535   \n",
       "4         137         137        1040         137  ...         137   \n",
       "\n",
       "   n_notes_24  n_notes_25  n_notes_26  n_notes_27  n_notes_28  n_notes_29  \\\n",
       "0        3240         140         140        3240         140         140   \n",
       "1       14041       14042       14041       14042       14041       14042   \n",
       "2         140        3240         140         140        3240         140   \n",
       "3       15535       13737       15535       15535       13737       15535   \n",
       "4        1040         137         137        1040         137         137   \n",
       "\n",
       "   n_notes_30  n_notes_31  n_notes_32  \n",
       "0        3240         140         140  \n",
       "1       14041       14042       14041  \n",
       "2         140        3240         140  \n",
       "3       15535       13737       15535  \n",
       "4        1040         137         137  \n",
       "\n",
       "[5 rows x 32 columns]"
      ]
     },
     "execution_count": 18,
     "metadata": {},
     "output_type": "execute_result"
    }
   ],
   "source": [
    "n_notes_id_sequences"
   ]
  },
  {
   "cell_type": "markdown",
   "metadata": {
    "id": "Zs62OJfB-dw4"
   },
   "source": [
    "# Referencias\n",
    "\n",
    "* Briot, J. (2021). From artificial neural networks to deep learning for music generation: history, concepts and trends. *Neural Comput & Applic 33*, 36-65.\n",
    "* Ijas, A. H. (2 de Noviembre de 2019). *Build a simple predictive keyboard using python and Keras*. Obtenido de medium.com: https://medium.com/analytics-vidhya/build-a-simple-predictive-keyboard-using-python-and-keras-b78d3c88cffb\n",
    "* Lozano Cruz, O. S.-G. (6 de Junio de 2013). El cerebro y la música. *Rev Med UV, Enero - Junio 2013*, págs. 17-22.\n",
    "* Morán Martínez, M. C. (1 de Noviembre de 2009). Psicología y Música: inteligencia musical y desarrollo estético*. *Revista Digital Universitaria*, págs. 1-13.\n",
    "\n"
   ]
  }
 ],
 "metadata": {
  "colab": {
   "collapsed_sections": [],
   "name": "U05A.ipynb",
   "provenance": []
  },
  "kernelspec": {
   "display_name": "Python 3 (ipykernel)",
   "language": "python",
   "name": "python3"
  },
  "language_info": {
   "codemirror_mode": {
    "name": "ipython",
    "version": 3
   },
   "file_extension": ".py",
   "mimetype": "text/x-python",
   "name": "python",
   "nbconvert_exporter": "python",
   "pygments_lexer": "ipython3",
   "version": "3.10.11"
  }
 },
 "nbformat": 4,
 "nbformat_minor": 1
}
